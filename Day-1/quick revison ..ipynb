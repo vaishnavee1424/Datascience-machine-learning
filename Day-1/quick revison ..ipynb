{
 "cells": [
  {
   "cell_type": "code",
   "execution_count": 36,
   "id": "0aac0d33",
   "metadata": {},
   "outputs": [
    {
     "name": "stdout",
     "output_type": "stream",
     "text": [
      "[9 5 8 3]\n",
      "<class 'numpy.ndarray'>\n"
     ]
    }
   ],
   "source": [
    "import numpy as np # used to perform opertion on array\n",
    "import pandas as pd \n",
    "a=np.array([9,5,8,3])\n",
    "print(a)\n",
    "print(type(a))"
   ]
  },
  {
   "cell_type": "code",
   "execution_count": 37,
   "id": "9f4897d8",
   "metadata": {},
   "outputs": [],
   "source": [
    "# list of operation that can easily performed on this.\n",
    "# #ndim – It returns the dimensions of the array.\n",
    "# itemsize – It calculates the byte size of each element.\n",
    "# dtype – It can determine the data type of the element.\n",
    "# reshape – It provides a new view.\n",
    "# slicing – It extracts a particular set of elements.\n",
    "# linspace – Returns evenly spaced elements."
   ]
  },
  {
   "cell_type": "code",
   "execution_count": 41,
   "id": "25c5873d",
   "metadata": {},
   "outputs": [
    {
     "name": "stdout",
     "output_type": "stream",
     "text": [
      "2\n",
      "(8, 8)\n",
      "8\n",
      "2\n",
      "<built-in method reshape of numpy.ndarray object at 0x000001D35D4A7390>\n",
      "[[1. 0. 0. 0. 0. 0. 0. 0. 0. 0. 0. 0.]\n",
      " [0. 1. 0. 0. 0. 0. 0. 0. 0. 0. 0. 0.]\n",
      " [0. 0. 1. 0. 0. 0. 0. 0. 0. 0. 0. 0.]\n",
      " [0. 0. 0. 1. 0. 0. 0. 0. 0. 0. 0. 0.]\n",
      " [0. 0. 0. 0. 1. 0. 0. 0. 0. 0. 0. 0.]\n",
      " [0. 0. 0. 0. 0. 1. 0. 0. 0. 0. 0. 0.]\n",
      " [0. 0. 0. 0. 0. 0. 1. 0. 0. 0. 0. 0.]\n",
      " [0. 0. 0. 0. 0. 0. 0. 1. 0. 0. 0. 0.]\n",
      " [0. 0. 0. 0. 0. 0. 0. 0. 1. 0. 0. 0.]\n",
      " [0. 0. 0. 0. 0. 0. 0. 0. 0. 1. 0. 0.]\n",
      " [0. 0. 0. 0. 0. 0. 0. 0. 0. 0. 1. 0.]\n",
      " [0. 0. 0. 0. 0. 0. 0. 0. 0. 0. 0. 1.]]\n"
     ]
    }
   ],
   "source": [
    "print(a.ndim)\n",
    "print(a.shape)\n",
    "print(a.itemsize)# how it is 44\n",
    "print(a.ndim)#if we put mutiple datatype then it will show some werid kind of data.\n",
    "print(a.reshape)\n",
    "a=np.eye(12)#sirf diagonally hi 1-1 hai baki toh zeros\n",
    "print(a)\n",
    "# print(a.slicing)\n",
    "# print(a.linspace)in dono mai no attribute object show kar raha hai."
   ]
  },
  {
   "cell_type": "code",
   "execution_count": 42,
   "id": "e1631482",
   "metadata": {},
   "outputs": [
    {
     "name": "stdout",
     "output_type": "stream",
     "text": [
      "<class 'list'>\n"
     ]
    }
   ],
   "source": [
    "nishu=['5','7','string',\"fortuner\",\"hey hii\"]\n",
    "print(type(nishu))"
   ]
  },
  {
   "cell_type": "code",
   "execution_count": 44,
   "id": "86b35965",
   "metadata": {},
   "outputs": [
    {
     "name": "stdout",
     "output_type": "stream",
     "text": [
      "<class 'tuple'>\n"
     ]
    }
   ],
   "source": [
    "pragya=['3','8'],[\"string\",\"hey\"],[\"hsy\",8]\n",
    "print(type(pragya))"
   ]
  },
  {
   "cell_type": "code",
   "execution_count": 45,
   "id": "e9f76f9c",
   "metadata": {},
   "outputs": [],
   "source": [
    "import pandas as pd"
   ]
  },
  {
   "cell_type": "code",
   "execution_count": null,
   "id": "493765a8",
   "metadata": {},
   "outputs": [],
   "source": []
  }
 ],
 "metadata": {
  "kernelspec": {
   "display_name": "Python 3 (ipykernel)",
   "language": "python",
   "name": "python3"
  },
  "language_info": {
   "codemirror_mode": {
    "name": "ipython",
    "version": 3
   },
   "file_extension": ".py",
   "mimetype": "text/x-python",
   "name": "python",
   "nbconvert_exporter": "python",
   "pygments_lexer": "ipython3",
   "version": "3.10.9"
  }
 },
 "nbformat": 4,
 "nbformat_minor": 5
}
