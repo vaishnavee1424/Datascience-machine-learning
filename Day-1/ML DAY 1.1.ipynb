{
 "cells": [
  {
   "cell_type": "code",
   "execution_count": 2,
   "id": "0aac0d33",
   "metadata": {},
   "outputs": [
    {
     "name": "stdout",
     "output_type": "stream",
     "text": [
      "['data', 10, 5, 46, 'science']\n",
      "<class 'list'>\n"
     ]
    }
   ],
   "source": [
    "list_1=['data',10,5,46,'science']\n",
    "print(list_1)\n",
    "print(type(list_1))\n"
   ]
  },
  {
   "cell_type": "code",
   "execution_count": 1,
   "id": "aef3f12a",
   "metadata": {},
   "outputs": [
    {
     "name": "stdout",
     "output_type": "stream",
     "text": [
      "([1, 2, 3, 4], [5, 6, 7, 8], [7, 8, 9, 10])\n"
     ]
    },
    {
     "data": {
      "text/plain": [
       "tuple"
      ]
     },
     "execution_count": 1,
     "metadata": {},
     "output_type": "execute_result"
    }
   ],
   "source": [
    "matrix=[1,2,3,4],[5,6,7,8],[7,8,9,10]\n",
    "print(matrix)\n",
    "type(matrix)"
   ]
  },
  {
   "cell_type": "code",
   "execution_count": 11,
   "id": "8f5caa3b",
   "metadata": {},
   "outputs": [
    {
     "name": "stdout",
     "output_type": "stream",
     "text": [
      "[1, 2, 3, 4]\n",
      "[5, 6, 7, 8]\n",
      "[5, 6, 7, 8]\n",
      "[5, 6, 7, 8]\n",
      "[7, 8, 9, 10]\n",
      "[5, 6, 7, 8]\n"
     ]
    }
   ],
   "source": [
    "for row in matrix:\n",
    "  print(row)\n",
    "  print(matrix[1])"
   ]
  },
  {
   "cell_type": "code",
   "execution_count": 2,
   "id": "d4bb206f",
   "metadata": {},
   "outputs": [
    {
     "data": {
      "text/plain": [
       "[[1, 2, 3], [3, 4, 5]]"
      ]
     },
     "execution_count": 2,
     "metadata": {},
     "output_type": "execute_result"
    }
   ],
   "source": []
  },
  {
   "cell_type": "code",
   "execution_count": null,
   "id": "c5f07b0d",
   "metadata": {},
   "outputs": [],
   "source": []
  }
 ],
 "metadata": {
  "kernelspec": {
   "display_name": "Python 3 (ipykernel)",
   "language": "python",
   "name": "python3"
  },
  "language_info": {
   "codemirror_mode": {
    "name": "ipython",
    "version": 3
   },
   "file_extension": ".py",
   "mimetype": "text/x-python",
   "name": "python",
   "nbconvert_exporter": "python",
   "pygments_lexer": "ipython3",
   "version": "3.10.9"
  }
 },
 "nbformat": 4,
 "nbformat_minor": 5
}
